{
 "cells": [
  {
   "cell_type": "code",
   "execution_count": null,
   "id": "24a5556a",
   "metadata": {},
   "outputs": [],
   "source": [
    "import numpy as np\n",
    "import cv2"
   ]
  },
  {
   "cell_type": "code",
   "execution_count": null,
   "id": "2db29830",
   "metadata": {},
   "outputs": [],
   "source": [
    "photo = np.ones((600, 500, 3))"
   ]
  },
  {
   "cell_type": "code",
   "execution_count": null,
   "id": "712ac701",
   "metadata": {},
   "outputs": [],
   "source": [
    "photo.shape"
   ]
  },
  {
   "cell_type": "code",
   "execution_count": null,
   "id": "7960db0e",
   "metadata": {},
   "outputs": [],
   "source": [
    "#face\n",
    "cv2.circle(photo, center=(250,175), radius=50, color=(0,0,0), thickness= 5)\n",
    "#body\n",
    "cv2.line(photo, (250, 225), (250, 400), (0, 0, 0), 5)\n",
    "#hands\n",
    "cv2.line(photo, (250, 250), (150, 350), (0, 0, 0), 5)\n",
    "cv2.line(photo, (250, 250), (350, 350), (0, 0, 0), 5)\n",
    "#legs\n",
    "cv2.line(photo, (250, 400), (150, 500), (0, 0, 0), 5)\n",
    "cv2.line(photo, (250, 400), (350, 500), (0, 0, 0), 5)"
   ]
  },
  {
   "cell_type": "code",
   "execution_count": null,
   "id": "66bd0d19",
   "metadata": {},
   "outputs": [],
   "source": [
    "cv2.imshow(\"StickMan\", photo)\n",
    "cv2.waitKey()\n",
    "cv2.destroyAllWindows()"
   ]
  }
 ],
 "metadata": {
  "kernelspec": {
   "display_name": "Python 3",
   "language": "python",
   "name": "python3"
  },
  "language_info": {
   "codemirror_mode": {
    "name": "ipython",
    "version": 3
   },
   "file_extension": ".py",
   "mimetype": "text/x-python",
   "name": "python",
   "nbconvert_exporter": "python",
   "pygments_lexer": "ipython3",
   "version": "3.8.8"
  }
 },
 "nbformat": 4,
 "nbformat_minor": 5
}
