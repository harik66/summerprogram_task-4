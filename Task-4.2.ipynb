{
 "cells": [
  {
   "cell_type": "code",
   "execution_count": null,
   "id": "d73f0cf0",
   "metadata": {},
   "outputs": [],
   "source": [
    "import cv2"
   ]
  },
  {
   "cell_type": "code",
   "execution_count": null,
   "id": "d9e8522d",
   "metadata": {},
   "outputs": [],
   "source": [
    "img1 = cv2.imread(\"Hello there.png\")\n",
    "img2 = cv2.imread(\"General Kenobi.png\")"
   ]
  },
  {
   "cell_type": "code",
   "execution_count": null,
   "id": "953f6699",
   "metadata": {},
   "outputs": [],
   "source": [
    "img1.shape"
   ]
  },
  {
   "cell_type": "code",
   "execution_count": null,
   "id": "3bc49f26",
   "metadata": {},
   "outputs": [],
   "source": [
    "img2.shape"
   ]
  },
  {
   "cell_type": "code",
   "execution_count": null,
   "id": "88af5b7b",
   "metadata": {},
   "outputs": [],
   "source": [
    "cv2.imshow(\"1\",img1)\n",
    "cv2.imshow(\"2\",img2)\n",
    "cv2.waitKey()\n",
    "cv2.destroyAllWindows()"
   ]
  },
  {
   "cell_type": "code",
   "execution_count": null,
   "id": "88bddcd7",
   "metadata": {},
   "outputs": [],
   "source": [
    "crop_img1 = img1[10:170,140:270]\n",
    "img2[20:180,297:-70] = crop_img1\n",
    "cv2.imshow(\"new1\",img2)\n",
    "cv2.waitKey()\n",
    "cv2.destroyAllWindows()"
   ]
  },
  {
   "cell_type": "code",
   "execution_count": null,
   "id": "e94970fb",
   "metadata": {},
   "outputs": [],
   "source": [
    "img2 = cv2.imread(\"General Kenobi.png\")\n",
    "crop_img2 = img2[20:180,297:-70]\n",
    "img1[10:170,140:270] = crop_img2\n",
    "cv2.imshow(\"new2\",img1)\n",
    "cv2.waitKey()\n",
    "cv2.destroyAllWindows()"
   ]
  }
 ],
 "metadata": {
  "kernelspec": {
   "display_name": "Python 3",
   "language": "python",
   "name": "python3"
  },
  "language_info": {
   "codemirror_mode": {
    "name": "ipython",
    "version": 3
   },
   "file_extension": ".py",
   "mimetype": "text/x-python",
   "name": "python",
   "nbconvert_exporter": "python",
   "pygments_lexer": "ipython3",
   "version": "3.8.8"
  }
 },
 "nbformat": 4,
 "nbformat_minor": 5
}
