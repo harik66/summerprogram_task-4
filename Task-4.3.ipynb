{
 "cells": [
  {
   "cell_type": "code",
   "execution_count": null,
   "id": "6a9a5032",
   "metadata": {},
   "outputs": [],
   "source": [
    "import cv2\n",
    "import numpy as np"
   ]
  },
  {
   "cell_type": "code",
   "execution_count": null,
   "id": "f935a498",
   "metadata": {},
   "outputs": [],
   "source": [
    "img1 = cv2.imread(\"Hello there.png\")\n",
    "img2 = cv2.imread(\"General Kenobi.png\")"
   ]
  },
  {
   "cell_type": "code",
   "execution_count": null,
   "id": "bf0c42b5",
   "metadata": {},
   "outputs": [],
   "source": [
    "img1.shape"
   ]
  },
  {
   "cell_type": "code",
   "execution_count": null,
   "id": "476ed2fd",
   "metadata": {},
   "outputs": [],
   "source": [
    "img2.shape"
   ]
  },
  {
   "cell_type": "code",
   "execution_count": null,
   "id": "05eb46cd",
   "metadata": {},
   "outputs": [],
   "source": [
    "img2 = img2[0:206,:]"
   ]
  },
  {
   "cell_type": "code",
   "execution_count": null,
   "id": "348a6177",
   "metadata": {},
   "outputs": [],
   "source": [
    "img2.shape"
   ]
  },
  {
   "cell_type": "code",
   "execution_count": null,
   "id": "c4c2086d",
   "metadata": {},
   "outputs": [],
   "source": [
    "cv2.imshow(\"1\", img1)\n",
    "cv2.waitKey()\n",
    "cv2.destroyAllWindows()"
   ]
  },
  {
   "cell_type": "code",
   "execution_count": null,
   "id": "1e8d7238",
   "metadata": {},
   "outputs": [],
   "source": [
    "cv2.imshow(\"2\", img2)\n",
    "cv2.waitKey()\n",
    "cv2.destroyAllWindows()"
   ]
  },
  {
   "cell_type": "code",
   "execution_count": null,
   "id": "0bb22977",
   "metadata": {},
   "outputs": [],
   "source": [
    "collage = np.hstack((img1,img2))\n",
    "cv2.imshow(\"ROTS\",collage)\n",
    "cv2.waitKey()\n",
    "cv2.destroyAllWindows()"
   ]
  }
 ],
 "metadata": {
  "kernelspec": {
   "display_name": "Python 3",
   "language": "python",
   "name": "python3"
  },
  "language_info": {
   "codemirror_mode": {
    "name": "ipython",
    "version": 3
   },
   "file_extension": ".py",
   "mimetype": "text/x-python",
   "name": "python",
   "nbconvert_exporter": "python",
   "pygments_lexer": "ipython3",
   "version": "3.8.8"
  }
 },
 "nbformat": 4,
 "nbformat_minor": 5
}
